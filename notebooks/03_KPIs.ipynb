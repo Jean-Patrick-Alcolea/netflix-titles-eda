{
 "cells": [
  {
   "cell_type": "code",
   "execution_count": 10,
   "id": "26dccad0",
   "metadata": {},
   "outputs": [],
   "source": [
    "# Imports\n",
    " \n",
    "import pandas as pd\n",
    "from collections import Counter"
   ]
  },
  {
   "cell_type": "code",
   "execution_count": 2,
   "id": "ab132e75",
   "metadata": {},
   "outputs": [],
   "source": [
    "# Data load\n",
    "\n",
    "df = pd.read_csv('../data/netflix_clean.csv')"
   ]
  },
  {
   "cell_type": "code",
   "execution_count": null,
   "id": "b8ec0ac8",
   "metadata": {},
   "outputs": [
    {
     "name": "stdout",
     "output_type": "stream",
     "text": [
      "Total titles: 8790\n"
     ]
    }
   ],
   "source": [
    "# KPIs\n",
    "\n",
    "print(f'Total titles: {len(df)}')"
   ]
  },
  {
   "cell_type": "code",
   "execution_count": 5,
   "id": "0c4a084b",
   "metadata": {},
   "outputs": [
    {
     "name": "stdout",
     "output_type": "stream",
     "text": [
      "Titles by type:\n",
      " type\n",
      "Movie      6126\n",
      "TV Show    2664\n",
      "Name: count, dtype: int64\n"
     ]
    }
   ],
   "source": [
    "# titles by type\n",
    "\n",
    "titles_by_type = df['type'].value_counts()\n",
    "print('Titles by type:\\n', titles_by_type)"
   ]
  },
  {
   "cell_type": "code",
   "execution_count": 8,
   "id": "979f21fd",
   "metadata": {},
   "outputs": [
    {
     "name": "stdout",
     "output_type": "stream",
     "text": [
      "Top countries:\n",
      " country\n",
      "United States     2809\n",
      "India              972\n",
      "unknown            829\n",
      "United Kingdom     418\n",
      "Japan              243\n",
      "South Korea        199\n",
      "Canada             181\n",
      "Spain              145\n",
      "France             124\n",
      "Mexico             110\n",
      "Name: count, dtype: int64\n"
     ]
    }
   ],
   "source": [
    "# top 10 countries\n",
    "\n",
    "top_countries = df['country'].value_counts().head(10)\n",
    "print(f'Top countries:\\n {top_countries}')"
   ]
  },
  {
   "cell_type": "code",
   "execution_count": 15,
   "id": "0ae772e0",
   "metadata": {},
   "outputs": [
    {
     "name": "stdout",
     "output_type": "stream",
     "text": [
      "Titles added per year: \n",
      " year_added\n",
      "2008       2\n",
      "2009       2\n",
      "2010       1\n",
      "2011      13\n",
      "2012       3\n",
      "2013      11\n",
      "2014      24\n",
      "2015      82\n",
      "2016     426\n",
      "2017    1185\n",
      "2018    1648\n",
      "2019    2016\n",
      "2020    1879\n",
      "2021    1498\n",
      "Name: count, dtype: int64\n"
     ]
    }
   ],
   "source": [
    "# Content added per year\n",
    "df['year_added'] = pd.to_datetime(df['date_added']).dt.year\n",
    "\n",
    "titles_per_year = df['year_added'].value_counts().sort_index()\n",
    "print('Titles added per year: \\n', titles_per_year)\n"
   ]
  },
  {
   "cell_type": "code",
   "execution_count": 24,
   "id": "e9cb9350",
   "metadata": {},
   "outputs": [
    {
     "name": "stdout",
     "output_type": "stream",
     "text": [
      "Top Genres:\n",
      " InternationalMovies      2752\n",
      "Dramas                   2426\n",
      "Comedies                 1674\n",
      "InternationalTVShows     1349\n",
      "Documentaries             869\n",
      "Action&Adventure          859\n",
      "TVDramas                  762\n",
      "IndependentMovies         756\n",
      "Children&FamilyMovies     641\n",
      "RomanticMovies            616\n",
      "dtype: int64\n"
     ]
    }
   ],
   "source": [
    "# most common genres\n",
    "\n",
    "genre_series = df['listed_in'].str.split(', ')\n",
    "genre_list = [genre for sublist in genre_series for genre in sublist]\n",
    "genre_list = [genre.replace('[', '').replace(']', '').replace(\"'\", '').replace(' ', '') for genre in genre_list]\n",
    "top_genres = pd.Series(Counter(genre_list)).nlargest(10)\n",
    "\n",
    "\n",
    "print('Top Genres:\\n',top_genres)"
   ]
  },
  {
   "cell_type": "code",
   "execution_count": null,
   "id": "2b5c0f05",
   "metadata": {},
   "outputs": [
    {
     "name": "stdout",
     "output_type": "stream",
     "text": [
      "Average Duration by Type:\n",
      " type\n",
      "Movie      99.584884\n",
      "TV Show     1.751877\n",
      "Name: duration_num, dtype: float64\n"
     ]
    }
   ],
   "source": [
    "# Average duration\n",
    "avg_duration = df.groupby('type')['duration_num'].mean()\n",
    "print('Average Duration by Type:\\n', avg_duration)\n"
   ]
  },
  {
   "cell_type": "code",
   "execution_count": 33,
   "id": "29000061",
   "metadata": {},
   "outputs": [
    {
     "data": {
      "text/html": [
       "<div>\n",
       "<style scoped>\n",
       "    .dataframe tbody tr th:only-of-type {\n",
       "        vertical-align: middle;\n",
       "    }\n",
       "\n",
       "    .dataframe tbody tr th {\n",
       "        vertical-align: top;\n",
       "    }\n",
       "\n",
       "    .dataframe thead th {\n",
       "        text-align: right;\n",
       "    }\n",
       "</style>\n",
       "<table border=\"1\" class=\"dataframe\">\n",
       "  <thead>\n",
       "    <tr style=\"text-align: right;\">\n",
       "      <th></th>\n",
       "      <th>type</th>\n",
       "      <th>duration_int</th>\n",
       "    </tr>\n",
       "  </thead>\n",
       "  <tbody>\n",
       "    <tr>\n",
       "      <th>0</th>\n",
       "      <td>Movie</td>\n",
       "      <td>9</td>\n",
       "    </tr>\n",
       "    <tr>\n",
       "      <th>1</th>\n",
       "      <td>TV Show</td>\n",
       "      <td>2</td>\n",
       "    </tr>\n",
       "    <tr>\n",
       "      <th>2</th>\n",
       "      <td>TV Show</td>\n",
       "      <td>1</td>\n",
       "    </tr>\n",
       "    <tr>\n",
       "      <th>3</th>\n",
       "      <td>TV Show</td>\n",
       "      <td>1</td>\n",
       "    </tr>\n",
       "    <tr>\n",
       "      <th>4</th>\n",
       "      <td>TV Show</td>\n",
       "      <td>2</td>\n",
       "    </tr>\n",
       "    <tr>\n",
       "      <th>...</th>\n",
       "      <td>...</td>\n",
       "      <td>...</td>\n",
       "    </tr>\n",
       "    <tr>\n",
       "      <th>8785</th>\n",
       "      <td>Movie</td>\n",
       "      <td>1</td>\n",
       "    </tr>\n",
       "    <tr>\n",
       "      <th>8786</th>\n",
       "      <td>TV Show</td>\n",
       "      <td>2</td>\n",
       "    </tr>\n",
       "    <tr>\n",
       "      <th>8787</th>\n",
       "      <td>Movie</td>\n",
       "      <td>8</td>\n",
       "    </tr>\n",
       "    <tr>\n",
       "      <th>8788</th>\n",
       "      <td>Movie</td>\n",
       "      <td>8</td>\n",
       "    </tr>\n",
       "    <tr>\n",
       "      <th>8789</th>\n",
       "      <td>Movie</td>\n",
       "      <td>1</td>\n",
       "    </tr>\n",
       "  </tbody>\n",
       "</table>\n",
       "<p>8790 rows × 2 columns</p>\n",
       "</div>"
      ],
      "text/plain": [
       "         type  duration_int\n",
       "0       Movie             9\n",
       "1     TV Show             2\n",
       "2     TV Show             1\n",
       "3     TV Show             1\n",
       "4     TV Show             2\n",
       "...       ...           ...\n",
       "8785    Movie             1\n",
       "8786  TV Show             2\n",
       "8787    Movie             8\n",
       "8788    Movie             8\n",
       "8789    Movie             1\n",
       "\n",
       "[8790 rows x 2 columns]"
      ]
     },
     "execution_count": 33,
     "metadata": {},
     "output_type": "execute_result"
    }
   ],
   "source": [
    "df[['type','duration_int']]"
   ]
  }
 ],
 "metadata": {
  "kernelspec": {
   "display_name": ".venv",
   "language": "python",
   "name": "python3"
  },
  "language_info": {
   "codemirror_mode": {
    "name": "ipython",
    "version": 3
   },
   "file_extension": ".py",
   "mimetype": "text/x-python",
   "name": "python",
   "nbconvert_exporter": "python",
   "pygments_lexer": "ipython3",
   "version": "3.11.9"
  }
 },
 "nbformat": 4,
 "nbformat_minor": 5
}
